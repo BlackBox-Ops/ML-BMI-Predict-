{
 "cells": [
  {
   "cell_type": "markdown",
   "metadata": {},
   "source": [
    "# Comparison Testing model RF vs Ensemble (RF, XB, SV, NB)\n",
    "---\n",
    "kita akan melakukan testing model untuk ensemble dan RF dan membandingkan dengan hasil model yang sudah kita latih sebelum nya"
   ]
  },
  {
   "cell_type": "markdown",
   "metadata": {},
   "source": [
    "## 1. Import Library yang dibutuhkan\n",
    "---\n",
    "pada tahap imi kita akan mencoba untuk memanggil library apa saja yng digunakan untuk membandingkan algoritma ensemble dengan random forest"
   ]
  },
  {
   "cell_type": "code",
   "execution_count": 1,
   "metadata": {},
   "outputs": [],
   "source": [
    "# Import library yang diperlukan\n",
    "import numpy as np  # Untuk operasi numerik\n",
    "import pandas as pd  # Untuk manipulasi data\n",
    "import matplotlib.pyplot as plt  # Untuk visualisasi data\n",
    "import seaborn as sns  # Untuk visualisasi data yang lebih menarik\n",
    "import joblib  # Untuk menyimpan dan memuat model\n",
    "\n",
    "# Import model dan fungsi dari scikit-learn\n",
    "from sklearn.naive_bayes import GaussianNB  # Model Naive Bayes\n",
    "from sklearn.svm import SVC  # Support Vector Classifier\n",
    "from xgboost import XGBClassifier  # XGBoost Classifier\n",
    "from sklearn.model_selection import train_test_split, GridSearchCV, KFold  # Untuk split data dan cross-validation\n",
    "from sklearn.ensemble import RandomForestClassifier, VotingClassifier  # Random Forest dan Voting Classifier\n",
    "from sklearn.metrics import accuracy_score, classification_report, auc, roc_curve, f1_score, confusion_matrix  # Untuk evaluasi model\n"
   ]
  },
  {
   "cell_type": "markdown",
   "metadata": {},
   "source": [
    "## 2. Load datasheet \n",
    "---\n",
    "Load datashet yang digunakan untuk proses analisis"
   ]
  },
  {
   "cell_type": "code",
   "execution_count": 2,
   "metadata": {},
   "outputs": [
    {
     "name": "stdout",
     "output_type": "stream",
     "text": [
      "     Gender  Height  Weight  Index\n",
      "0         1     174      96      4\n",
      "1         1     189      87      2\n",
      "2         0     185     110      4\n",
      "3         0     195     104      3\n",
      "4         1     149      61      3\n",
      "..      ...     ...     ...    ...\n",
      "495       0     150     153      5\n",
      "496       0     184     121      4\n",
      "497       0     141     136      5\n",
      "498       1     150      95      5\n",
      "499       1     173     131      5\n",
      "\n",
      "[500 rows x 4 columns]\n"
     ]
    }
   ],
   "source": [
    "# Load datasheet dari direltori data \n",
    "data = pd.read_csv('../Data/preprocessing.csv')\n",
    "\n",
    "# Tampilkan isi dari datasheet\n",
    "print(data)"
   ]
  },
  {
   "cell_type": "markdown",
   "metadata": {},
   "source": [
    "## 3. Setting Hyperparameter Model\n",
    "---\n",
    "Setting hyperparameter untuk membuat model kita memiliki akurasi yang baik dan sebisa mungkin untuk terhindari dari overfitting dan underfitting"
   ]
  },
  {
   "cell_type": "code",
   "execution_count": 3,
   "metadata": {},
   "outputs": [],
   "source": [
    "# Pisahkan fitur (X) dan label (y) dari dataset\n",
    "X = data.iloc[:, :-1]  # Semua kolom kecuali kolom terakhir sebagai fitur\n",
    "y = data.iloc[:, -1]  # Kolom terakhir sebagai label\n",
    "\n",
    "# 2. Split data menjadi train-test\n",
    "X_train, X_test, y_train, y_test = train_test_split(X, y, test_size=0.2, random_state=42)\n",
    "# Membagi data menjadi set pelatihan dan pengujian dengan rasio 80:20\n",
    "\n",
    "# 3. Inisialisasi model individu\n",
    "rf_model = RandomForestClassifier(n_estimators=100, random_state=42)  # Model Random Forest dengan 100 pohon\n",
    "svm_model = SVC(probability=True, kernel=\"linear\", random_state=42)  # Model SVM dengan kernel linear dan probabilitas\n",
    "xgb_model = XGBClassifier(use_label_encoder=False, eval_metric=\"mlogloss\", random_state=42)  # Model XGBoost\n",
    "nb_model = GaussianNB()  # Model Naive Bayes\n",
    "\n",
    "# 4. Inisialisasi VotingClassifier\n",
    "voting_clf = VotingClassifier(\n",
    "    estimators=[\n",
    "        (\"rf\", rf_model),  # Model Random Forest\n",
    "        (\"svm\", svm_model),  # Model SVM\n",
    "        (\"xgb\", xgb_model),  # Model XGBoost\n",
    "        (\"nb\", nb_model)  # Model Naive Bayes\n",
    "    ],\n",
    "    voting=\"soft\"  # Gunakan 'soft' untuk rata-rata probabilitas, atau 'hard' untuk mayoritas\n",
    ")\n",
    "# VotingClassifier menggabungkan beberapa model untuk membuat prediksi yang lebih baik"
   ]
  },
  {
   "cell_type": "markdown",
   "metadata": {},
   "source": [
    "## Latih model dan tampilkan hasil pelatihan"
   ]
  },
  {
   "cell_type": "code",
   "execution_count": 4,
   "metadata": {},
   "outputs": [
    {
     "name": "stdout",
     "output_type": "stream",
     "text": [
      "Training Voting Classifier...\n"
     ]
    },
    {
     "name": "stderr",
     "output_type": "stream",
     "text": [
      "c:\\Users\\AlanFirdaus-ITMS\\AppData\\Local\\Programs\\Python\\Python312\\Lib\\site-packages\\xgboost\\core.py:158: UserWarning: [11:28:58] WARNING: C:\\buildkite-agent\\builds\\buildkite-windows-cpu-autoscaling-group-i-0ed59c031377d09b8-1\\xgboost\\xgboost-ci-windows\\src\\learner.cc:740: \n",
      "Parameters: { \"use_label_encoder\" } are not used.\n",
      "\n",
      "  warnings.warn(smsg, UserWarning)\n"
     ]
    },
    {
     "name": "stdout",
     "output_type": "stream",
     "text": [
      "Evaluating Voting Classifier...\n",
      "Accuracy: 0.9100\n",
      "F1 Score: 0.9106\n",
      "\n",
      "Classification Report:\n",
      "              precision    recall  f1-score   support\n",
      "\n",
      "           0       1.00      1.00      1.00         1\n",
      "           1       0.67      1.00      0.80         4\n",
      "           2       1.00      0.83      0.91        18\n",
      "           3       0.89      1.00      0.94         8\n",
      "           4       0.93      0.87      0.90        30\n",
      "           5       0.90      0.95      0.93        39\n",
      "\n",
      "    accuracy                           0.91       100\n",
      "   macro avg       0.90      0.94      0.91       100\n",
      "weighted avg       0.92      0.91      0.91       100\n",
      "\n"
     ]
    }
   ],
   "source": [
    "# 5. Latih VotingClassifier\n",
    "print(\"Training Voting Classifier...\")\n",
    "voting_clf.fit(X_train, y_train)\n",
    "\n",
    "# 6. Evaluasi model\n",
    "print(\"Evaluating Voting Classifier...\")\n",
    "y_pred = voting_clf.predict(X_test)\n",
    "\n",
    "# Accuracy and F1 Score\n",
    "accuracy = accuracy_score(y_test, y_pred)\n",
    "f1 = f1_score(y_test, y_pred, average=\"weighted\")\n",
    "\n",
    "print(f\"Accuracy: {accuracy:.4f}\")\n",
    "print(f\"F1 Score: {f1:.4f}\")\n",
    "print(\"\\nClassification Report:\")\n",
    "print(classification_report(y_test, y_pred))"
   ]
  },
  {
   "cell_type": "markdown",
   "metadata": {},
   "source": [
    "<b>Insight :</b>\n",
    "Berbeda dengan model RF yang sudah kita latih sebelumya dengan menggunakan voting classifier kita bisa meningkatkan akurasi model darinyang tadinya sebesar 81 % menjadi 91 % artinya model kita hampir mengenali semua data pelatihan, meskipun begitu kit akan mencoba untuk melakukan pengukuran dengan data baru untuk melihat apakah model kita mengalami overfitting atau malah underfitting. Apabila model tetep menunjukan akurasi yang baik ini berarti model kita sudah siap untuk digunakan di lingkungan produksi "
   ]
  },
  {
   "cell_type": "markdown",
   "metadata": {},
   "source": [
    "## 4. Ukur akurasi model ensemble \n",
    "---\n",
    "ukur akurasi model yang sudah dilatih dan menghitung jumlah prediksi yang bernilai benar dan salah "
   ]
  },
  {
   "cell_type": "code",
   "execution_count": 5,
   "metadata": {},
   "outputs": [
    {
     "name": "stdout",
     "output_type": "stream",
     "text": [
      "prediksi benar:  91  data\n",
      "prediksi salah:  9  data\n",
      "Akurasi Algoritme:  91.0 %\n",
      "TRUE NEGATIVE (TN)  : 1\n",
      "FALSE NEGATIVE (FN) : 0\n",
      "TRUE POSITIVE (TP)  : 4\n",
      "FALSE POSITIVE (FP) : 0\n",
      "PRECISION : 100.0 %\n",
      "RECALL    : 100.0 %\n",
      "              precision    recall  f1-score   support\n",
      "\n",
      "           0       1.00      1.00      1.00         1\n",
      "           1       0.67      1.00      0.80         4\n",
      "           2       1.00      0.83      0.91        18\n",
      "           3       0.89      1.00      0.94         8\n",
      "           4       0.93      0.87      0.90        30\n",
      "           5       0.90      0.95      0.93        39\n",
      "\n",
      "    accuracy                           0.91       100\n",
      "   macro avg       0.90      0.94      0.91       100\n",
      "weighted avg       0.92      0.91      0.91       100\n",
      "\n"
     ]
    }
   ],
   "source": [
    "rfc_acc = accuracy_score(y_test, y_pred)\n",
    "\n",
    "#Compute performance manually\n",
    "NewprediksiBenar = (y_pred == y_test).sum() # jika prediksi == dengan y test maka bernilai True\n",
    "NewprediksiSalah = (y_pred != y_test).sum() # jika prediksi != dengan y test maka bernilai false \n",
    "\n",
    "print(\"prediksi benar: \", NewprediksiBenar, \" data\") # Tulis jumlah prediksi yang bernilai benar \n",
    "print(\"prediksi salah: \", NewprediksiSalah, \" data\") # Tulis jumlah prediksi yang bernilai salah \n",
    "# Hitung jumlah prediksi benar dibagi dengan jumlah prediksi salah \n",
    "print(\"Akurasi Algoritme: \", NewprediksiBenar/(NewprediksiBenar+NewprediksiSalah)*100,\"%\")\n",
    "\n",
    "# Buat variabel untuk mengukur kinerja dari model \n",
    "CM = confusion_matrix(y_test, y_pred)\n",
    "\n",
    "TN = CM[0][0] # True Negative \n",
    "FN = CM[1][0] # False Negatif\n",
    "TP = CM[1][1] # True Positive \n",
    "FP = CM[0][1] # False Positive \n",
    "\n",
    "precision    = TP/(TP+FP) # Perhitungan precision \n",
    "recall       = TP/(TP+FN) # perhitungan recall \n",
    "\n",
    "print (\"TRUE NEGATIVE (TN)  :\", TN) \n",
    "print (\"FALSE NEGATIVE (FN) :\", FN) \n",
    "print (\"TRUE POSITIVE (TP)  :\", TP)\n",
    "print (\"FALSE POSITIVE (FP) :\", FP)\n",
    "\n",
    "# hitung precision dan recall serta tampilan report dari hasil pelatihan model \n",
    "print (\"PRECISION :\", precision*100,\"%\")\n",
    "print (\"RECALL    :\", recall*100,\"%\")\n",
    "print(classification_report(y_test, y_pred))"
   ]
  },
  {
   "cell_type": "markdown",
   "metadata": {},
   "source": [
    "<b>Insight :</b>\n",
    "Berdasarkan hasil output berikut ternyata model kita bisa berhasil menangkap 91 data benar dengan hanya menyisakan 9 data yang bernilai salah jumlah TN = 1, FN =0 dan TP = 4, FP = 0 jumlah precession dan recall = 100 % menunjukan bahwa model kit sudah cukup baik sejauh ini"
   ]
  },
  {
   "cell_type": "markdown",
   "metadata": {},
   "source": [
    "## 5 Test model terhadap data baru \n",
    "---\n",
    "setelah dirasa model sudah cukup baik, kita akan menyimpan model dalam bentuk format joblib"
   ]
  },
  {
   "cell_type": "code",
   "execution_count": 6,
   "metadata": {},
   "outputs": [],
   "source": [
    "# Simpan model VotingClassifier ke dalam file joblib\n",
    "\n",
    "joblib_file = \"voting_classifier_model.joblib\"\n",
    "\n",
    "# joblib.dump(voting_clf, joblib_file)\n",
    "# print(f\"Model disimpan ke {joblib_file}\")"
   ]
  },
  {
   "cell_type": "markdown",
   "metadata": {},
   "source": [
    "## Evaluasi model pada data uji\n",
    "---\n",
    "kita akan melakkan evaluasi pda data uji dan melakukan perhitungan berapa kesalahan model kita terhadap data baru "
   ]
  },
  {
   "cell_type": "code",
   "execution_count": 7,
   "metadata": {},
   "outputs": [
    {
     "name": "stdout",
     "output_type": "stream",
     "text": [
      "Evaluating Voting Classifier...\n",
      "Accuracy: 0.9100\n",
      "F1 Score: 0.9106\n",
      "\n",
      "Classification Report:\n",
      "              precision    recall  f1-score   support\n",
      "\n",
      "           0       1.00      1.00      1.00         1\n",
      "           1       0.67      1.00      0.80         4\n",
      "           2       1.00      0.83      0.91        18\n",
      "           3       0.89      1.00      0.94         8\n",
      "           4       0.93      0.87      0.90        30\n",
      "           5       0.90      0.95      0.93        39\n",
      "\n",
      "    accuracy                           0.91       100\n",
      "   macro avg       0.90      0.94      0.91       100\n",
      "weighted avg       0.92      0.91      0.91       100\n",
      "\n"
     ]
    }
   ],
   "source": [
    "# 7. Evaluasi model pada data uji\n",
    "print(\"Evaluating Voting Classifier...\")\n",
    "y_pred = voting_clf.predict(X_test)\n",
    "\n",
    "# Accuracy and F1 Score\n",
    "accuracy = accuracy_score(y_test, y_pred)\n",
    "f1 = f1_score(y_test, y_pred, average=\"weighted\")\n",
    "\n",
    "print(f\"Accuracy: {accuracy:.4f}\")\n",
    "print(f\"F1 Score: {f1:.4f}\")\n",
    "print(\"\\nClassification Report:\")\n",
    "print(classification_report(y_test, y_pred))"
   ]
  },
  {
   "cell_type": "markdown",
   "metadata": {},
   "source": [
    "## Buat data baru dan test dengan model yang sudah dilatih \n",
    "---\n",
    "kita akan membuat data baru secara random untuk menguji ketahana model kita terhadap data baru yang di uji sebelum model tersbeut akan digunakan pada lingkungan produksi"
   ]
  },
  {
   "cell_type": "code",
   "execution_count": 8,
   "metadata": {},
   "outputs": [
    {
     "name": "stdout",
     "output_type": "stream",
     "text": [
      "Loading model from joblib file...\n",
      "Predicting new data...\n"
     ]
    }
   ],
   "source": [
    "# 8. Membuat data baru untuk pengujian\n",
    "new_data = np.array([\n",
    "    [1, 170.5, 60.3],  # Gender, Height, Weight\n",
    "    [0, 180.1, 85.7],\n",
    "    [1, 151.0, 78.1],\n",
    "    [0, 165.3, 70.0],\n",
    "    [1, 175.2, 80.5],\n",
    "    [0, 150.4, 45.3],\n",
    "    [1, 160.7, 55.8],\n",
    "    [0, 190.0, 95.2],\n",
    "    [1, 168.8, 75.4],\n",
    "    [0, 178.5, 65.6],\n",
    "])\n",
    "\n",
    "# 9. Load model dari joblib dan prediksi data baru\n",
    "print(\"Loading model from joblib file...\")\n",
    "loaded_model = joblib.load(joblib_file)\n",
    "\n",
    "print(\"Predicting new data...\")\n",
    "predictions = loaded_model.predict(new_data)"
   ]
  },
  {
   "cell_type": "markdown",
   "metadata": {},
   "source": [
    "## Konversi hasil prediksi ke keterangan kelas "
   ]
  },
  {
   "cell_type": "code",
   "execution_count": 9,
   "metadata": {},
   "outputs": [],
   "source": [
    "# Konversi hasil prediksi ke keterangan kelas\n",
    "class_mapping = {\n",
    "    0: \"Extreme Weak\",\n",
    "    1: \"Weak\",\n",
    "    2: \"Normal\",\n",
    "    3: \"Overweight\",\n",
    "    4: \"Obesity\",\n",
    "    5: \"Extreme Obesity\"\n",
    "}\n",
    "predicted_classes = [class_mapping[pred] for pred in predictions]\n",
    "\n",
    "# Konversi Gender menjadi deskripsi\n",
    "gender_mapping = {1: \"Laki-laki\", 0: \"Perempuan\"}\n",
    "\n",
    "# Tampilkan hasil prediksi\n",
    "results = pd.DataFrame(new_data, columns=[\"Gender\", \"Height\", \"Weight\"])\n",
    "results[\"Gender\"] = results[\"Gender\"].map(gender_mapping)  # Gunakan map untuk mengganti nilai\n",
    "results[\"Predicted_Class\"] = predictions\n",
    "results[\"Class_Description\"] = predicted_classes"
   ]
  },
  {
   "cell_type": "markdown",
   "metadata": {},
   "source": [
    "## Tampilkan Hasil Prediksi Data Baru "
   ]
  },
  {
   "cell_type": "code",
   "execution_count": 10,
   "metadata": {},
   "outputs": [
    {
     "name": "stdout",
     "output_type": "stream",
     "text": [
      "\n",
      "Predictions on New Data:\n",
      "      Gender  Height  Weight  Predicted_Class Class_Description\n",
      "0  Laki-laki   170.5    60.3                2            Normal\n",
      "1  Perempuan   180.1    85.7                3        Overweight\n",
      "2  Laki-laki   151.0    78.1                4           Obesity\n",
      "3  Perempuan   165.3    70.0                3        Overweight\n",
      "4  Laki-laki   175.2    80.5                3        Overweight\n",
      "5  Perempuan   150.4    45.3                2            Normal\n",
      "6  Laki-laki   160.7    55.8                2            Normal\n",
      "7  Perempuan   190.0    95.2                3        Overweight\n",
      "8  Laki-laki   168.8    75.4                3        Overweight\n",
      "9  Perempuan   178.5    65.6                2            Normal\n"
     ]
    }
   ],
   "source": [
    "print(\"\\nPredictions on New Data:\")\n",
    "print(results)"
   ]
  },
  {
   "cell_type": "code",
   "execution_count": 14,
   "metadata": {},
   "outputs": [
    {
     "data": {
      "text/plain": [
       "<Figure size 1000x800 with 0 Axes>"
      ]
     },
     "metadata": {},
     "output_type": "display_data"
    },
    {
     "data": {
      "image/png": "[encoded data removed]",
      "text/plain": [
       "<Figure size 640x480 with 2 Axes>"
      ]
     },
     "metadata": {},
     "output_type": "display_data"
    }
   ],
   "source": [
    "from sklearn.metrics import confusion_matrix, ConfusionMatrixDisplay\n",
    "\n",
    "# Hitung confusion matrix\n",
    "conf_matrix = confusion_matrix(y_test, y_pred)\n",
    "\n",
    "# Buat label kelas untuk deskripsi\n",
    "class_labels = [\"Extreme Weak\", \"Weak\", \"Normal\", \"Overweight\", \"Obesity\", \"Extreme Obesity\"]\n",
    "\n",
    "# Visualisasi confusion matrix menggunakan ConfusionMatrixDisplay\n",
    "disp = ConfusionMatrixDisplay(confusion_matrix=conf_matrix, display_labels=class_labels)\n",
    "\n",
    "# Konfigurasi visualisasi\n",
    "plt.figure(figsize=(10, 8))  # Atur ukuran plot\n",
    "disp.plot(cmap=plt.cm.Blues, values_format='d', xticks_rotation=45)  # Warna dan format nilai\n",
    "plt.title(\"Confusion Matrix for Voting Classifier\")\n",
    "plt.xlabel(\"Predicted Labels\")\n",
    "plt.ylabel(\"True Labels\")\n",
    "plt.grid(False)  # Hilangkan grid\n",
    "plt.tight_layout()\n",
    "plt.show()"
   ]
  },
  {
   "cell_type": "code",
   "execution_count": null,
   "metadata": {},
   "outputs": [
    {
     "data": {
      "image/png": "[encoded data removed]",
      "text/plain": [
       "<Figure size 640x480 with 2 Axes>"
      ]
     },
     "metadata": {},
     "output_type": "display_data"
    }
   ],
   "source": [
    "from sklearn.metrics import confusion_matrix, ConfusionMatrixDisplay\n",
    "import joblib\n",
    "\n",
    "# Data baru untuk pengujian\n",
    "new_data = np.array([\n",
    "    [1, 170.5, 60.3],\n",
    "    [0, 180.1, 85.7],\n",
    "    [1, 155.0, 50.1],\n",
    "    [0, 165.3, 70.0],\n",
    "    [1, 175.2, 80.5],\n",
    "    [0, 150.4, 45.3],\n",
    "    [1, 160.7, 55.8],\n",
    "    [0, 190.0, 95.2],\n",
    "    [1, 168.8, 75.4],\n",
    "    [0, 178.5, 65.6],\n",
    "])\n",
    "\n",
    "# Label sebenarnya\n",
    "true_labels = [2, 3, 2, 3, 3, 2, 2, 3, 3, 2]\n",
    "\n",
    "# Load model dari file joblib\n",
    "joblib_file = \"../Notebook/voting_classifier_model.joblib\"\n",
    "loaded_model = joblib.load(joblib_file)\n",
    "\n",
    "# Prediksi data baru\n",
    "predictions = loaded_model.predict(new_data)\n",
    "\n",
    "# Generate confusion matrix\n",
    "conf_matrix = confusion_matrix(true_labels, predictions)\n",
    "\n",
    "# Dapatkan kelas unik yang terlibat\n",
    "unique_classes = np.unique(np.concatenate((true_labels, predictions)))\n",
    "\n",
    "# Definisikan nama kelas berdasarkan kelas unik\n",
    "class_mapping = {\n",
    "    0: \"Extreme Weak\",\n",
    "    1: \"Weak\",\n",
    "    2: \"Normal\",\n",
    "    3: \"Overweight\",\n",
    "    4: \"Obesity\",\n",
    "    5: \"Extreme Obesity\",\n",
    "}\n",
    "class_names = [class_mapping[c] for c in unique_classes]\n",
    "\n",
    "# Visualisasi confusion matrix\n",
    "disp = ConfusionMatrixDisplay(confusion_matrix=conf_matrix, display_labels=class_names)\n",
    "disp.plot(cmap=plt.cm.Blues, xticks_rotation=\"vertical\")\n",
    "plt.title(\"Confusion Matrix for Voting Classifier\")\n",
    "plt.show()\n"
   ]
  }
 ],
 "metadata": {
  "kernelspec": {
   "display_name": "Python 3",
   "language": "python",
   "name": "python3"
  },
  "language_info": {
   "codemirror_mode": {
    "name": "ipython",
    "version": 3
   },
   "file_extension": ".py",
   "mimetype": "text/x-python",
   "name": "python",
   "nbconvert_exporter": "python",
   "pygments_lexer": "ipython3",
   "version": "3.12.6"
  }
 },
 "nbformat": 4,
 "nbformat_minor": 2
}
