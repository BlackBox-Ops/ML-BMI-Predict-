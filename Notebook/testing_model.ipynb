{
 "cells": [
  {
   "cell_type": "markdown",
   "metadata": {},
   "source": [
    "# Testing Model\n",
    "---\n",
    "Tahap ini melakukan pengetesan untuk model machine learning yang sudah kita buat dan menyimpan log hasil pelatihan nya dalam format json"
   ]
  },
  {
   "cell_type": "markdown",
   "metadata": {},
   "source": [
    "## Import Library yang dibutuhkan "
   ]
  },
  {
   "cell_type": "code",
   "execution_count": 19,
   "metadata": {},
   "outputs": [],
   "source": [
    "import numpy as np  # library untuk komputasi numerik \n",
    "import pandas as pd # library untuk pengolahan dataframe \n",
    "import json         # library untuk data dalam format json \n",
    "import joblib       # library untuk load model dalam format joblib \n",
    "import unittest     # library untuk melakukan testing program \n",
    "\n",
    "# library untuk pengukuran model machine learning \n",
    "from sklearn.metrics import accuracy_score "
   ]
  },
  {
   "cell_type": "markdown",
   "metadata": {},
   "source": [
    "## Membuat Augmentasi untuk menguji model\n",
    "--- \n",
    "Membuat data dummy dalam bentuk array secara acak untuk melatih model machine learning kita yang sudah dilatih sebelmunya "
   ]
  },
  {
   "cell_type": "code",
   "execution_count": 20,
   "metadata": {},
   "outputs": [],
   "source": [
    "# Membuat data baru untuk pengujian\n",
    "new_data = np.array([\n",
    "    [1, 170.5, 60.3],  # Gender, Height, Weight\n",
    "    [0, 180.1, 85.7],\n",
    "    [1, 151.0, 78.1],\n",
    "    [0, 165.3, 70.0],\n",
    "    [1, 175.2, 80.5],\n",
    "    [0, 150.4, 45.3],\n",
    "    [1, 160.7, 55.8],\n",
    "    [0, 190.0, 95.2],\n",
    "    [1, 168.8, 75.4],\n",
    "    [0, 178.5, 65.6],\n",
    "])"
   ]
  },
  {
   "cell_type": "markdown",
   "metadata": {},
   "source": [
    "## Test model dengan unittest\n",
    "---\n",
    "Setelah membuat data mentah dalam format array, selanjutnya load file model dan buat variabel new labels serta akurasi minimum nya "
   ]
  },
  {
   "cell_type": "code",
   "execution_count": 22,
   "metadata": {},
   "outputs": [],
   "source": [
    "# Path ke file model \n",
    "MODEL_PATH = '../models/voting_classifier_model.joblib'\n",
    "\n",
    "# Label untuk data baru (hanya untuk evaluasi)\n",
    "new_labels = np.array([2, 3, 3, 3, 3, 2, 2, 3, 3, 2])  # Contoh label ground truth\n",
    "\n",
    "# Ambang batas akurasi minimum\n",
    "MIN_ACCURACY = 0.8"
   ]
  },
  {
   "cell_type": "markdown",
   "metadata": {},
   "source": [
    "## Buat Class OOP untuk unittest \n",
    "---\n",
    "Membuat modul testing dengan menggunakan pendekatan oop "
   ]
  },
  {
   "cell_type": "code",
   "execution_count": 25,
   "metadata": {},
   "outputs": [
    {
     "name": "stderr",
     "output_type": "stream",
     "text": [
      "test_model_accuracy (__main__.TestVotingClassifier.test_model_accuracy)\n",
      "Test: Memastikan akurasi model memenuhi ambang batas. ... ok\n",
      "test_model_file_exists (__main__.TestVotingClassifier.test_model_file_exists)\n",
      "Test: Memastikan file model ada. ... ok\n",
      "test_model_handles_new_data (__main__.TestVotingClassifier.test_model_handles_new_data)\n",
      "Test: Memastikan model dapat menangani data baru. ... ok\n",
      "test_model_predictions_within_classes (__main__.TestVotingClassifier.test_model_predictions_within_classes)\n",
      "Test: Memastikan prediksi sesuai dengan kelas yang diharapkan. ... ok\n",
      "test_model_probability_output (__main__.TestVotingClassifier.test_model_probability_output)\n",
      "Test: Memastikan model memberikan probabilitas untuk prediksi. ... ok\n",
      "\n",
      "----------------------------------------------------------------------\n",
      "Ran 5 tests in 0.503s\n",
      "\n",
      "OK\n"
     ]
    }
   ],
   "source": [
    "class TestVotingClassifier(unittest.TestCase):\n",
    "    \"\"\"Unittest untuk model VotingClassifier.\"\"\"\n",
    "\n",
    "    @classmethod\n",
    "    def setUpClass(cls):\n",
    "        \"\"\"Memuat model sekali untuk semua pengujian.\"\"\"\n",
    "        try:\n",
    "            cls.model = joblib.load(MODEL_PATH)\n",
    "        except FileNotFoundError:\n",
    "            raise FileNotFoundError(f\"Model file not found at {MODEL_PATH}\")\n",
    "\n",
    "    def test_model_file_exists(self):\n",
    "        \"\"\"Test: Memastikan file model ada.\"\"\"\n",
    "        try:\n",
    "            joblib.load(MODEL_PATH)\n",
    "        except FileNotFoundError:\n",
    "            self.fail(f\"Model file not found at {MODEL_PATH}\")\n",
    "\n",
    "    def test_model_predictions_within_classes(self):\n",
    "        \"\"\"Test: Memastikan prediksi sesuai dengan kelas yang diharapkan.\"\"\"\n",
    "        predictions = self.model.predict(new_data)\n",
    "        # Periksa apakah prediksi dalam rentang kelas\n",
    "        self.assertTrue(np.all(predictions >= 0), \"Predictions contain invalid classes below 0\")\n",
    "        self.assertTrue(np.all(predictions <= 5), \"Predictions contain invalid classes above 5\")\n",
    "\n",
    "    def test_model_accuracy(self):\n",
    "        \"\"\"Test: Memastikan akurasi model memenuhi ambang batas.\"\"\"\n",
    "        predictions = self.model.predict(new_data)\n",
    "        accuracy = accuracy_score(new_labels, predictions)\n",
    "        self.assertGreaterEqual(accuracy, MIN_ACCURACY, f\"Model accuracy {accuracy:.4f} is below the minimum threshold {MIN_ACCURACY}\")\n",
    "\n",
    "    def test_model_handles_new_data(self):\n",
    "        \"\"\"Test: Memastikan model dapat menangani data baru.\"\"\"\n",
    "        try:\n",
    "            predictions = self.model.predict(new_data)\n",
    "        except Exception as e:\n",
    "            self.fail(f\"Model failed to handle new data: {e}\")\n",
    "        # Periksa jumlah prediksi sama dengan jumlah data input\n",
    "        self.assertEqual(len(predictions), len(new_data), \"Number of predictions does not match the input data size\")\n",
    "\n",
    "    def test_model_probability_output(self):\n",
    "        \"\"\"Test: Memastikan model memberikan probabilitas untuk prediksi.\"\"\"\n",
    "        try:\n",
    "            probabilities = self.model.predict_proba(new_data)\n",
    "        except Exception as e:\n",
    "            self.fail(f\"Model failed to return probabilities: {e}\")\n",
    "        # Periksa apakah probabilitas memiliki dimensi yang benar\n",
    "        self.assertEqual(probabilities.shape, (len(new_data), 6), \"Probability output shape is incorrect\")\n",
    "\n",
    "\n",
    "# Menjalankan unittest tanpa konflik dengan Jupyter Notebook\n",
    "if __name__ == \"__main__\":\n",
    "    # Membuat suite pengujian\n",
    "    suite = unittest.TestLoader().loadTestsFromTestCase(TestVotingClassifier)\n",
    "    \n",
    "    # Menjalankan pengujian\n",
    "    runner = unittest.TextTestRunner(verbosity=2)\n",
    "    runner.run(suite)"
   ]
  },
  {
   "cell_type": "markdown",
   "metadata": {},
   "source": [
    "## Simpan hasil pengetesan dalam format json \n",
    "---\n",
    "Setelah berhasil melakukan testing simpan file log dalam format json "
   ]
  },
  {
   "cell_type": "code",
   "execution_count": 29,
   "metadata": {},
   "outputs": [
    {
     "name": "stderr",
     "output_type": "stream",
     "text": [
      "test_model_accuracy (__main__.TestVotingClassifier.test_model_accuracy)\n",
      "Test: Memastikan akurasi model memenuhi ambang batas. ... ok\n",
      "test_model_file_exists (__main__.TestVotingClassifier.test_model_file_exists)\n",
      "Test: Memastikan file model ada. ... ok\n",
      "test_model_handles_new_data (__main__.TestVotingClassifier.test_model_handles_new_data)\n",
      "Test: Memastikan model dapat menangani data baru. ... ok\n",
      "test_model_predictions_within_classes (__main__.TestVotingClassifier.test_model_predictions_within_classes)\n",
      "Test: Memastikan prediksi sesuai dengan kelas yang diharapkan. ... ok\n",
      "test_model_probability_output (__main__.TestVotingClassifier.test_model_probability_output)\n",
      "Test: Memastikan model memberikan probabilitas untuk prediksi. ... ok\n",
      "\n",
      "----------------------------------------------------------------------\n",
      "Ran 5 tests in 0.601s\n",
      "\n",
      "OK\n"
     ]
    },
    {
     "name": "stdout",
     "output_type": "stream",
     "text": [
      "Hasil pengujian telah disimpan di 'logs/unittest_results.json'\n"
     ]
    }
   ],
   "source": [
    "import os\n",
    "\n",
    "# Menjalankan unittest dan menyimpan hasil ke JSON\n",
    "if __name__ == \"__main__\":\n",
    "    # Membuat suite pengujian\n",
    "    suite = unittest.TestLoader().loadTestsFromTestCase(TestVotingClassifier)\n",
    "\n",
    "    # Menjalankan pengujian\n",
    "    runner = unittest.TextTestRunner(verbosity=2)\n",
    "    result = runner.run(suite)\n",
    "    \n",
    "    # Menyiapkan data hasil pengujian untuk JSON\n",
    "    test_results = {\n",
    "        \"total_tests\": result.testsRun,\n",
    "        \"failures\": [\n",
    "            {\"test\": str(f[0]), \"reason\": str(f[1])} for f in result.failures\n",
    "        ],\n",
    "        \"errors\": [\n",
    "            {\"test\": str(e[0]), \"reason\": str(e[1])} for e in result.errors\n",
    "        ],\n",
    "        \"skipped\": [\n",
    "            {\"test\": str(s[0]), \"reason\": str(s[1])} for s in result.skipped\n",
    "        ],\n",
    "        \"successful_tests\": result.testsRun - len(result.failures) - len(result.errors) - len(result.skipped),\n",
    "    }\n",
    "    \n",
    "    # Menyimpan hasil ke file JSON\n",
    "    with open(\"../logs/unittest_results.json\", \"w\") as json_file:\n",
    "        json.dump(test_results, json_file, indent=4)\n",
    "\n",
    "    print(\"Hasil pengujian telah disimpan di 'logs/unittest_results.json'\")\n"
   ]
  }
 ],
 "metadata": {
  "language_info": {
   "name": "python"
  }
 },
 "nbformat": 4,
 "nbformat_minor": 2
}
