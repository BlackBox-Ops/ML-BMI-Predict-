{
 "cells": [
  {
   "cell_type": "markdown",
   "metadata": {},
   "source": [
    "# **Exploratory Data Analyst BMI**\n",
    "---\n",
    "pada bagian ini kita akan membuat analisis untuk menemukan insight dan menjadikan nya sebagai informasi dari data yang kita miliki \n",
    "> Portofolio Machine Learning "
   ]
  },
  {
   "cell_type": "markdown",
   "metadata": {},
   "source": [
    "## **1.Data Wrangling**\n",
    "---\n",
    "pada bagian ini kita akan melakukan pembersihan dan pengecekan pada datasheet yang kita miliki\n"
   ]
  },
  {
   "cell_type": "markdown",
   "metadata": {
    "vscode": {
     "languageId": "plaintext"
    }
   },
   "source": [
    "### **1.1 import library dan load datasheet**"
   ]
  },
  {
   "cell_type": "code",
   "execution_count": 2,
   "metadata": {},
   "outputs": [
    {
     "name": "stdout",
     "output_type": "stream",
     "text": [
      "     Gender  Height  Weight  Index\n",
      "0      Male     174      96      4\n",
      "1      Male     189      87      2\n",
      "2    Female     185     110      4\n",
      "3    Female     195     104      3\n",
      "4      Male     149      61      3\n",
      "..      ...     ...     ...    ...\n",
      "495  Female     150     153      5\n",
      "496  Female     184     121      4\n",
      "497  Female     141     136      5\n",
      "498    Male     150      95      5\n",
      "499    Male     173     131      5\n",
      "\n",
      "[500 rows x 4 columns]\n"
     ]
    }
   ],
   "source": [
    "# import library yang digunakan \n",
    "import numpy as np                  # library untuk komputasi numerik dengan library numpy \n",
    "import pandas as pd                 # library untuk pengolahan datafarme \n",
    "import matplotlib.pyplot as plt     # library untuk visualisasi data \n",
    "import seaborn as sns               # library untuk visualisasi data \n",
    "\n",
    "# load datasheet yang akan digunakan\n",
    "df = pd.read_csv('../Data/bmi.csv')\n",
    "\n",
    "# tampilkan isi dari datasheet \n",
    "print(df)"
   ]
  },
  {
   "cell_type": "markdown",
   "metadata": {},
   "source": [
    "<b>Insight :</b>\n",
    "<p>sekrang kita telah berhasil menambahkan datahsheet dan menampilkan 5 data teratas dan terakhir</p>"
   ]
  },
  {
   "cell_type": "markdown",
   "metadata": {},
   "source": [
    "### **1.2 melihat informasi dari datasheet yang kita gunakan**\n",
    "---\n",
    "<p>tahap selanjutnya kita akan melihat informasi dari datasheet untuk mengetahui jumlah kolom dan baris</p>"
   ]
  },
  {
   "cell_type": "code",
   "execution_count": 5,
   "metadata": {},
   "outputs": [
    {
     "name": "stdout",
     "output_type": "stream",
     "text": [
      "jumlah baris dari datasheet yang kita punya berjumlah : 500 baris\n",
      "jumlah kolom dari datasheet yang kita punya berjumlah : 4 kolom\n"
     ]
    }
   ],
   "source": [
    "print(f'jumlah baris dari datasheet yang kita punya berjumlah : {df.shape[0] } baris')\n",
    "print(f'jumlah kolom dari datasheet yang kita punya berjumlah : {df.shape[1]} kolom')"
   ]
  },
  {
   "cell_type": "markdown",
   "metadata": {},
   "source": [
    "<b>Insight : </b>\n",
    "<ul>\n",
    "    <li>ternyata jumlah baris kita berjumlah 500 data, meskipun sedikit kita akan mencoba mengoptimalkan data tersebut untuk membuat model yang efesien</li>\n",
    "    <li>kita memiliki 4 kolom fitur data yang bisa kita gunakan untuk analisis lebih lanjut</li>\n",
    "</ul>"
   ]
  },
  {
   "cell_type": "markdown",
   "metadata": {},
   "source": [
    "### **1.3 Mengecek duplikasi dan missing value dari datasheet yang kita punya**\n",
    "---\n",
    "selanjutnya kita akan melakukan pengecekan apakah ada data yang mengalami missing value atau duplikasi "
   ]
  },
  {
   "cell_type": "code",
   "execution_count": 6,
   "metadata": {},
   "outputs": [
    {
     "name": "stdout",
     "output_type": "stream",
     "text": [
      "jumlah duplikasi : 11 data\n"
     ]
    }
   ],
   "source": [
    "# mengecek duplikasi dan missing value dengan menggunakan pandas \n",
    "print(f'jumlah duplikasi : {df.duplicated().sum()} data')"
   ]
  },
  {
   "cell_type": "markdown",
   "metadata": {},
   "source": [
    "<b>Insight :</b>\n",
    "<p>ternyata dari datahsheet kita ada 11 data yang mengalami duplikasi, tetapi karena jumlah data kita yang hanya berjumlah sedikit sekitar 500 data, kita tidak akan menghapus duplikasi tersebut akan tetapi kita akan memilih model yang tahan terhadap duplikasi</p>"
   ]
  },
  {
   "cell_type": "markdown",
   "metadata": {},
   "source": [
    "sekarang kita akan melakukan pengecekan apakah terdapat data yang mengalami missing value atau bernilai null"
   ]
  },
  {
   "cell_type": "code",
   "execution_count": 7,
   "metadata": {},
   "outputs": [
    {
     "name": "stdout",
     "output_type": "stream",
     "text": [
      "     Gender  Height  Weight  Index\n",
      "187  Female     182      84      3\n",
      "310    Male     171     147      5\n",
      "327  Female     167      85      4\n",
      "355    Male     174      90      3\n",
      "365    Male     141      80      5\n",
      "381    Male     191      62      1\n",
      "382    Male     177     117      4\n",
      "395  Female     164      71      3\n",
      "400  Female     195     104      3\n",
      "462    Male     179      56      1\n",
      "482  Female     142      86      5\n"
     ]
    }
   ],
   "source": [
    "duplicate_rows = df[df.duplicated()]\n",
    "print(duplicate_rows)"
   ]
  },
  {
   "cell_type": "markdown",
   "metadata": {},
   "source": [
    "## **2.Exploratory Data Analyst**\n",
    "---\n",
    "selanjutnya kita akan melakukan analisis lebih lanjut dengan melakukan pendekatan EDA untuk mendapatkan insight yang kemudian hari bisa dijadikan sebagai informasi yang berharga"
   ]
  },
  {
   "cell_type": "markdown",
   "metadata": {},
   "source": [
    "### **2.1 Merubah Kategorisasi Data**\n",
    "---\n",
    "pada tahap ini kita akan melakukan preprocessing untuk fitur Index danan melakukan kategorisasi ke beberapa label kelas"
   ]
  },
  {
   "cell_type": "code",
   "execution_count": 8,
   "metadata": {},
   "outputs": [
    {
     "name": "stdout",
     "output_type": "stream",
     "text": [
      "     Gender  Height  Weight  Index            Status\n",
      "0      Male     174      96      4           Obesity\n",
      "1      Male     189      87      2            Normal\n",
      "2    Female     185     110      4           Obesity\n",
      "3    Female     195     104      3        Overweight\n",
      "4      Male     149      61      3        Overweight\n",
      "..      ...     ...     ...    ...               ...\n",
      "495  Female     150     153      5  Extreame Obesity\n",
      "496  Female     184     121      4           Obesity\n",
      "497  Female     141     136      5  Extreame Obesity\n",
      "498    Male     150      95      5  Extreame Obesity\n",
      "499    Male     173     131      5  Extreame Obesity\n",
      "\n",
      "[500 rows x 5 columns]\n"
     ]
    }
   ],
   "source": [
    "# buat fungsi kategorisasi untuk merubah fitur status menjadi beberapa kategori \n",
    "def convert_status_to_description(x):\n",
    "    if x['Index'] == 0:\n",
    "        return 'Extremely Weak'\n",
    "    elif x['Index'] == 1:\n",
    "        return 'Weak'\n",
    "    elif x['Index'] == 2:\n",
    "        return 'Normal'\n",
    "    elif x['Index'] == 3:\n",
    "        return 'Overweight'\n",
    "    elif x['Index'] == 4:\n",
    "        return 'Obesity'\n",
    "    elif x['Index'] == 5:\n",
    "        return 'Extreame Obesity'\n",
    "\n",
    "# copy datasheet dari variable df ke variabel data dengan tujuan memisahkan data raw dengan data analisis\n",
    "data = df.copy()\n",
    "\n",
    "# konversi fitur index dan buat tabel status untuk menyimpan hasil konversi \n",
    "data['Status'] = data.apply(convert_status_to_description, axis=1)\n",
    "\n",
    "# tampilkan hasil konversi \n",
    "print(data)"
   ]
  },
  {
   "cell_type": "markdown",
   "metadata": {},
   "source": [
    "<b>Insight : </b>\n",
    "<p>sekarang kita memiliki kolom status dari hasil konversi dari datasheet raw yang kiat miliki</p>"
   ]
  },
  {
   "cell_type": "markdown",
   "metadata": {},
   "source": [
    "### **2.1.1 Mengkonversi Fitur Gender ke Tipe Data Numerik**\n",
    "---\n",
    "sekarang kita akan mengkonversi fitur gender dari datasheet data ke tipe data numerik agar bisa dilakukan analisis dan pembuatan visualisasi"
   ]
  },
  {
   "cell_type": "code",
   "execution_count": 9,
   "metadata": {},
   "outputs": [
    {
     "name": "stdout",
     "output_type": "stream",
     "text": [
      "   Gender  Height  Weight  Index      Status  gen_lbl\n",
      "0    Male     174      96      4     Obesity        1\n",
      "1    Male     189      87      2      Normal        1\n",
      "2  Female     185     110      4     Obesity        0\n",
      "3  Female     195     104      3  Overweight        0\n",
      "4    Male     149      61      3  Overweight        1\n"
     ]
    }
   ],
   "source": [
    "# melakukan konversi tipe data untuk gender dari object ke numerik dan menambahkan kolom baru dengan nama gender label \n",
    "def convert_gender_to_label(x):\n",
    "    if x['Gender'] == 'Male':\n",
    "        return 1\n",
    "    if x['Gender'] == 'Female':\n",
    "        return 0\n",
    "\n",
    "data['gen_lbl'] = data.apply(convert_gender_to_label, axis=1)\n",
    "print(data.head())"
   ]
  },
  {
   "cell_type": "markdown",
   "metadata": {},
   "source": [
    "<b>Insight : </b>\n",
    "<p>sekarang kita memiliki 1 kolom baru dengan nama gender label</p>"
   ]
  },
  {
   "cell_type": "code",
   "execution_count": null,
   "metadata": {},
   "outputs": [],
   "source": []
  }
 ],
 "metadata": {
  "kernelspec": {
   "display_name": "Python 3",
   "language": "python",
   "name": "python3"
  },
  "language_info": {
   "codemirror_mode": {
    "name": "ipython",
    "version": 3
   },
   "file_extension": ".py",
   "mimetype": "text/x-python",
   "name": "python",
   "nbconvert_exporter": "python",
   "pygments_lexer": "ipython3",
   "version": "3.12.5"
  }
 },
 "nbformat": 4,
 "nbformat_minor": 2
}
